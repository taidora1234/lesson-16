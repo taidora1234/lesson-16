{
 "cells": [
  {
   "cell_type": "markdown",
   "metadata": {
    "id": "pDrecLU-4QjS"
   },
   "source": [
    "# Практика"
   ]
  },
  {
   "cell_type": "code",
   "execution_count": 12,
   "metadata": {},
   "outputs": [],
   "source": [
    "import pandas as pd\n",
    "import numpy as np\n",
    "import matplotlib.pyplot as plt\n",
    "import random\n",
    "import scipy.stats as sts\n",
    "from scipy.stats import binom\n",
    "%matplotlib inline\n",
    "from itertools import product\n",
    "import warnings\n",
    "warnings.filterwarnings('ignore')"
   ]
  },
  {
   "cell_type": "markdown",
   "metadata": {
    "id": "gUvTNDlMaV-a"
   },
   "source": [
    "## Определение вероятности. События\n",
    "\n",
    "Требуется сгенерировать необходимые выборки и произвести по ним расчеты"
   ]
  },
  {
   "cell_type": "markdown",
   "metadata": {
    "id": "5V70InEBTgup"
   },
   "source": [
    "### Задача 1\n",
    "Брошено две монеты. Найти вероятность того, что монеты выпали разными сторонами"
   ]
  },
  {
   "cell_type": "code",
   "execution_count": 13,
   "metadata": {
    "id": "88Iw-SL3jYQV"
   },
   "outputs": [
    {
     "name": "stdout",
     "output_type": "stream",
     "text": [
      "Вероятность  0.499926\n"
     ]
    }
   ],
   "source": [
    "num_trials = 1000000\n",
    "num_different = 0\n",
    "\n",
    "for i in range(num_trials):\n",
    "    coin1 = random.choice(['heads', 'tails'])\n",
    "    coin2 = random.choice(['heads', 'tails'])\n",
    "    if coin1 != coin2:\n",
    "        num_different += 1\n",
    "\n",
    "print(\"Вероятность \", num_different / num_trials)"
   ]
  },
  {
   "cell_type": "markdown",
   "metadata": {
    "id": "t0XOMos2Tl0e"
   },
   "source": [
    "### Задача 2\n",
    "Брошено три монеты. Описать множество всех элементарных событий. Найти вероятности следующих событий:\n",
    "\n",
    "\n",
    "1.   A = {не выпало ни одного герба}\n",
    "2.   B = {выпало четное число гербов}\n",
    "3.   C = {на третьей монете выпал герб}\n"
   ]
  },
  {
   "cell_type": "code",
   "execution_count": 19,
   "metadata": {},
   "outputs": [
    {
     "name": "stdout",
     "output_type": "stream",
     "text": [
      "Вероятность события A: 0.125\n",
      "Вероятность события B: 0.5\n",
      "Вероятность события C: 0.5\n"
     ]
    }
   ],
   "source": [
    "# Генерируем все возможные исходы\n",
    "#outcomes = [(0,0,0), (0,0,1), (0,1,0), (0,1,1), (1,0,0), (1,0,1), (1,1,0), (1,1,1)]\n",
    "\n",
    "# Вычисляем вероятности событий\n",
    "#A_count = 0\n",
    "#B_count = 0\n",
    "#C_count = 0\n",
    "\n",
    "#for outcome in outcomes:\n",
    "#    if sum(outcome) == 0:\n",
    "#        A_count += 1\n",
    "#    if sum(outcome) % 2 == 0:\n",
    "#        B_count += 1\n",
    "#    if outcome[2] == 1:\n",
    "#        C_count += 1\n",
    "\n",
    "#A_prob = A_count / len(outcomes)\n",
    "#B_prob = B_count / len(outcomes)\n",
    "#C_prob = C_count / len(outcomes)\n",
    "\n",
    "#print(\"Вероятность события A:\", A_prob)\n",
    "#print(\"Вероятность события B:\", B_prob)\n",
    "#print(\"Вероятность события C:\", C_prob)\n"
   ]
  },
  {
   "cell_type": "code",
   "execution_count": 15,
   "metadata": {},
   "outputs": [
    {
     "name": "stdout",
     "output_type": "stream",
     "text": [
      "Вероятность события А: 0.125\n",
      "Вероятность события В: 0.5\n",
      "Вероятность события С: 0.5\n"
     ]
    }
   ],
   "source": [
    "import numpy as np\n",
    "\n",
    "coins = np.array(['H', 'T'])\n",
    "\n",
    "combinations = np.array(np.meshgrid(coins, coins, coins)).T.reshape(-1, 3)\n",
    "\n",
    "p = 0.5\n",
    "\n",
    "A = combinations[(combinations == 'T').all(axis=1)]\n",
    "P_A = len(A) / len(combinations)\n",
    "\n",
    "B = combinations[(combinations == 'H').sum(axis=1) % 2 == 0]\n",
    "P_B = len(B) / len(combinations)\n",
    "\n",
    "C = combinations[combinations[:, 2] == 'H']\n",
    "P_C = len(C) / len(combinations)\n",
    "\n",
    "print('Вероятность события А:', P_A)\n",
    "print('Вероятность события В:', P_B)\n",
    "print('Вероятность события С:', P_C)"
   ]
  },
  {
   "attachments": {},
   "cell_type": "markdown",
   "metadata": {},
   "source": [
    "Предлагается также решить задачи: \n",
    "\n",
    "### Задача 3\n",
    "Из двух претендентов E и L на ответственную должность три члена комиссии должны отобрать одного. Каждый член комиссии должен указать либо одного достойного, либо забраковать обоих. Претендент считается выбранным, если он был признана достойным хотя бы двумя членами комиссии.\n",
    "Найти вероятность событий:\n",
    "\n",
    "A = {рекомендован L}, B = {рекомендован E}\n"
   ]
  },
  {
   "cell_type": "code",
   "execution_count": 16,
   "metadata": {},
   "outputs": [
    {
     "name": "stdout",
     "output_type": "stream",
     "text": [
      "Вероятность рекомендации L: 0.0\n",
      "Вероятность рекомендации E: 1.0\n"
     ]
    }
   ],
   "source": [
    "from itertools import combinations\n",
    "\n",
    "def probability_of_selection():\n",
    "    candidates = ['E', 'L']\n",
    "    committee = 3\n",
    "    count = 0\n",
    "    for i in range(2):\n",
    "        for j in combinations(candidates, committee):\n",
    "            if j.count(candidates[i]) >= 2:\n",
    "                count += 1\n",
    "    return count / 4\n",
    "\n",
    "print(\"Вероятность рекомендации L:\", probability_of_selection())\n",
    "print(\"Вероятность рекомендации E:\", 1 - probability_of_selection())"
   ]
  },
  {
   "attachments": {},
   "cell_type": "markdown",
   "metadata": {
    "id": "peM38mVfYa5B"
   },
   "source": [
    "### Задача 4\n",
    "Брошено две игральных кости. Описать множество элементарных событий. Найти вероятности событий:\n",
    "\n",
    "A = {вышло две \"шестерки\"}\n",
    "\n",
    "B = {сумма выпавших очков не меньше 11}\n",
    "\n",
    "C = {не выпала ни одна \"шестерка\"}"
   ]
  },
  {
   "cell_type": "code",
   "execution_count": 19,
   "metadata": {},
   "outputs": [
    {
     "name": "stdout",
     "output_type": "stream",
     "text": [
      "Elementary events: {(3, 4), (4, 3), (3, 1), (5, 4), (4, 6), (5, 1), (2, 2), (1, 6), (2, 5), (1, 3), (6, 2), (6, 5), (4, 2), (4, 5), (3, 3), (5, 6), (3, 6), (5, 3), (2, 4), (1, 2), (2, 1), (1, 5), (6, 1), (6, 4), (3, 2), (4, 1), (3, 5), (5, 2), (4, 4), (5, 5), (1, 1), (1, 4), (2, 3), (2, 6), (6, 6), (6, 3)}\n",
      "P(A) = 0.03\n",
      "P(B) = 0.08\n",
      "P(C) = 0.69\n"
     ]
    }
   ],
   "source": [
    "import numpy as np\n",
    "import itertools\n",
    "\n",
    "# количество бросков\n",
    "n = 100000\n",
    "\n",
    "# генерируем выборки\n",
    "samples = list(itertools.product(range(1, 7), repeat=2))\n",
    "\n",
    "# множество элементарных событий\n",
    "elementary_events = set(tuple(sample) for sample in samples)\n",
    "\n",
    "# событие A: выпало две шестерки\n",
    "event_a = [(i, j) for (i, j) in samples if i == 6 and j == 6]\n",
    "\n",
    "# событие B: сумма выпавших очков не меньше 11\n",
    "event_b = [(i, j) for (i, j) in samples if i + j >= 11]\n",
    "\n",
    "# событие C: не выпала ни одна шестерка\n",
    "event_c = [(i, j) for (i, j) in samples if i != 6 and j != 6]\n",
    "\n",
    "# вероятность события A\n",
    "p_a = len(event_a) / len(elementary_events)\n",
    "\n",
    "# вероятность события B\n",
    "p_b = len(event_b) / len(elementary_events)\n",
    "\n",
    "# вероятность события C\n",
    "p_c = len(event_c) / len(elementary_events)\n",
    "\n",
    "print(f'Elementary events: {elementary_events}')\n",
    "print(f'P(A) = {p_a:.2f}')\n",
    "print(f'P(B) = {p_b:.2f}')\n",
    "print(f'P(C) = {p_c:.2f}')"
   ]
  },
  {
   "cell_type": "markdown",
   "metadata": {
    "id": "f-Bi0p8haclB"
   },
   "source": [
    "## Вероятность суммы событий"
   ]
  },
  {
   "cell_type": "markdown",
   "metadata": {
    "id": "g7A7QlvGTnwZ"
   },
   "source": [
    "### Задача 5\n",
    "Брошены две игральные кости. Найти вероятность события D = {выпала хотя бы одна шестёрка}\n"
   ]
  },
  {
   "cell_type": "code",
   "execution_count": 37,
   "metadata": {
    "id": "vjtTJN-kUp9D"
   },
   "outputs": [
    {
     "name": "stdout",
     "output_type": "stream",
     "text": [
      "Вероятность выпадения хотя бы одной 'шестерки':  0.30607\n"
     ]
    }
   ],
   "source": [
    "N = 1000000  # количество имитационных экспериментов\n",
    "count_D = 0  # счётчик числа благоприятных исходов\n",
    "\n",
    "for i in range(N):\n",
    "    dice1 = random.randint(1, 6)  # бросаем первую кость\n",
    "    dice2 = random.randint(1, 6)  # бросаем вторую кость\n",
    "    if dice1 == 6 or dice2 == 6:  # проверяем, выпала ли хотя бы одна шестерка\n",
    "        count_D += 1\n",
    "\n",
    "prob_D = count_D / N  # вычисляем вероятность\n",
    "print(\"Вероятность выпадения хотя бы одной 'шестерки': \", prob_D)"
   ]
  },
  {
   "cell_type": "markdown",
   "metadata": {
    "id": "R1bYSzQQbC6I"
   },
   "source": [
    "Предлагается также решить задачи: \n",
    "\n",
    "### Задача 6\n",
    "В телефонном номере три последние цифры стерлись. Считая, что все возможные значения стершихся цифр равновероятны, найти вероятность событий:\n",
    "\n",
    "A = {Стерлись различные цифры},\n",
    "\n",
    "B = {Стерлись одинаковые цифры},\n",
    "\n",
    "C = {Среди стершихся цифр хотя бы две совпадают},\n",
    "\n",
    "D = {Среди стершихся цифр хотя бы две различны}\n"
   ]
  },
  {
   "cell_type": "code",
   "execution_count": 27,
   "metadata": {},
   "outputs": [
    {
     "name": "stdout",
     "output_type": "stream",
     "text": [
      "Вероятность события A: 0.7231\n",
      "Вероятность события B: 0.0101\n",
      "Вероятность события C: 0.2781\n",
      "Вероятность события D: 0.9903\n"
     ]
    }
   ],
   "source": [
    "def event_A():\n",
    "    digits = set()\n",
    "    for i in range(3):\n",
    "        digits.add(random.randrange(10))\n",
    "    return len(digits) == 3\n",
    "\n",
    "def event_B():\n",
    "    digits = set()\n",
    "    for i in range(3):\n",
    "        digits.add(random.randrange(10))\n",
    "    return len(digits) == 1\n",
    "\n",
    "def event_C():\n",
    "    digits = []\n",
    "    for i in range(3):\n",
    "        digits.append(random.randrange(10))\n",
    "    return len(set(digits)) < 3\n",
    "\n",
    "def event_D():\n",
    "    digits = []\n",
    "    for i in range(3):\n",
    "        digits.append(random.randrange(10))\n",
    "    return len(set(digits)) > 1\n",
    "\n",
    "num_trials = 10000\n",
    "\n",
    "print(\"Вероятность события A:\", sum(event_A() for i in range(num_trials)) / num_trials)\n",
    "print(\"Вероятность события B:\", sum(event_B() for i in range(num_trials)) / num_trials)\n",
    "print(\"Вероятность события C:\", sum(event_C() for i in range(num_trials)) / num_trials)\n",
    "print(\"Вероятность события D:\", sum(event_D() for i in range(num_trials)) / num_trials)"
   ]
  },
  {
   "cell_type": "markdown",
   "metadata": {
    "id": "RnugkR8BalK_"
   },
   "source": [
    "## Случайные величины"
   ]
  },
  {
   "cell_type": "markdown",
   "metadata": {
    "id": "yLoZDZ17UVsp"
   },
   "source": [
    "### Задача 7\n",
    "В лотерее имеется 10 билетов, из которых один выигрышный. Размер выигрыша 10 ден. ед.; стоимость билета 1 ден ед. Найти закон распределения случайной величины X, равной чистому выигрышу участника лотереи, который вытаскивает билет первым."
   ]
  },
  {
   "cell_type": "code",
   "execution_count": 3,
   "metadata": {
    "id": "oNk432sKUqzT"
   },
   "outputs": [
    {
     "name": "stdout",
     "output_type": "stream",
     "text": [
      "Вероятность чистого выигрыша:  0.09999999999999998\n"
     ]
    }
   ],
   "source": [
    "#P(X = 9 - 1) = P(X = 8) = 1/10\n",
    "\n",
    "#p = 1/10\n",
    "\n",
    "#P_X = p * 10 - (1 - p) * 1\n",
    "\n",
    "#print(\"Вероятность чистого выигрыша: \", P_X)"
   ]
  },
  {
   "cell_type": "code",
   "execution_count": 29,
   "metadata": {},
   "outputs": [
    {
     "name": "stdout",
     "output_type": "stream",
     "text": [
      "Закон распределения X:\n",
      "X = 0: P(X = 0) = 0.9\n",
      "X = 9: P(X = 9) = 0.1\n"
     ]
    }
   ],
   "source": [
    "#from scipy.stats import rv_discrete\n",
    "\n",
    "# Определение возможных значений X и соответствующих вероятностей\n",
    "#values = [0, 9]\n",
    "#probabilities = [9/10, 1/10]\n",
    "\n",
    "# Создание дискретной случайной величины\n",
    "#X = rv_discrete(values=(values, probabilities))\n",
    "\n",
    "# Вывод закона распределения\n",
    "#print(\"Закон распределения X:\")\n",
    "#for i in range(len(X.xk)):\n",
    "#    print(f\"X = {X.xk[i]}: P(X = {X.xk[i]}) = {X.pk[i]}\")"
   ]
  },
  {
   "cell_type": "code",
   "execution_count": 2,
   "metadata": {},
   "outputs": [
    {
     "name": "stdout",
     "output_type": "stream",
     "text": [
      "Билет 1: Чистый выигрыш = -1\n",
      "Билет 2: Чистый выигрыш = -1\n",
      "Билет 3: Чистый выигрыш = -1\n",
      "Билет 4: Чистый выигрыш = -1\n",
      "Билет 5: Чистый выигрыш = -1\n",
      "Билет 6: Чистый выигрыш = -1\n",
      "Билет 7: Чистый выигрыш = 9\n",
      "Билет 8: Чистый выигрыш = -1\n",
      "Билет 9: Чистый выигрыш = -1\n",
      "Билет 10: Чистый выигрыш = -1\n"
     ]
    }
   ],
   "source": [
    "import random\n",
    "\n",
    "# количество билетов\n",
    "#num_tickets = 10\n",
    "\n",
    "# номер выигрышного билета\n",
    "#winning_ticket = random.randint(1, num_tickets)\n",
    "\n",
    "# размер выигрыша\n",
    "#prize_amount = 10\n",
    "\n",
    "# стоимость билета\n",
    "#ticket_cost = 1\n",
    "\n",
    "# функция, которая возвращает чистый выигрыш участника\n",
    "#def calculate_net_prize(ticket_number):\n",
    "  #  if ticket_number == winning_ticket:\n",
    "  #      return prize_amount - ticket_cost\n",
    "  #  else:\n",
    "  #      return -ticket_cost\n",
    "\n",
    "# тестируем наши функции\n",
    "##   print(f\"Билет {i}: Чистый выигрыш = {calculate_net_prize(i)}\")\n",
    "\n",
    "# Чистый выигрыш может принимать значения -1, 9"
   ]
  },
  {
   "cell_type": "code",
   "execution_count": 6,
   "metadata": {},
   "outputs": [
    {
     "name": "stdout",
     "output_type": "stream",
     "text": [
      "P(X=0) = 0.90\n",
      "P(X=9) = 0.10\n",
      "P(X=-1) = 0.89\n"
     ]
    }
   ],
   "source": [
    "import numpy as np\n",
    "\n",
    "# количество билетов\n",
    "n = 10\n",
    "\n",
    "# количество выигрышных билетов\n",
    "k = 1\n",
    "\n",
    "# размер выигрыша\n",
    "win_size = 10\n",
    "\n",
    "# стоимость билета\n",
    "ticket_price = 1\n",
    "\n",
    "# вероятность выигрыша\n",
    "p = k / n\n",
    "\n",
    "# вероятность проигрыша\n",
    "q = 1 - p\n",
    "\n",
    "# закон распределения случайной величины X\n",
    "x = np.array([0, win_size])\n",
    "pmf = np.array([q, p])\n",
    "\n",
    "# чистый выигрыш участника лотереи\n",
    "net_win = x * pmf - ticket_price\n",
    "\n",
    "# вероятность того, что участник лотереи не получит никакого выигрыша\n",
    "p_no_win = q\n",
    "\n",
    "# вероятность того, что участник лотереи получит чистый выигрыш в размере 9 денежных единиц\n",
    "p_net_win_9 = pmf[1]\n",
    "\n",
    "# вероятность того, что участник лотереи получит чистый проигрыш\n",
    "p_net_loss = pmf[0] - ticket_price / win_size * pmf[1]\n",
    "\n",
    "print(f'P(X=0) = {p_no_win:.2f}')\n",
    "print(f'P(X=9) = {p_net_win_9:.2f}')\n",
    "print(f'P(X=-1) = {p_net_loss:.2f}')"
   ]
  },
  {
   "cell_type": "markdown",
   "metadata": {
    "id": "U-NK9liSbpvb"
   },
   "source": [
    "Предлагается также решить задачу: \n",
    "\n",
    "### Задача 8\n",
    "Брошены две игральные кости. Найти закон распределения случайной величины $X$, равной сумме выпавших очков. Найти вероятности событий ${X <= 4}$, ${X > 4}$"
   ]
  },
  {
   "cell_type": "code",
   "execution_count": 30,
   "metadata": {},
   "outputs": [
    {
     "name": "stdout",
     "output_type": "stream",
     "text": [
      "P(X=2) = 0.028\n",
      "P(X=3) = 0.056\n",
      "P(X=4) = 0.083\n",
      "P(X=5) = 0.111\n",
      "P(X=6) = 0.139\n",
      "P(X=7) = 0.167\n",
      "P(X=8) = 0.139\n",
      "P(X=9) = 0.111\n",
      "P(X=10) = 0.083\n",
      "P(X=11) = 0.056\n",
      "P(X=12) = 0.028\n",
      "P(X <= 4) = 0.167\n",
      "P(X > 4) = 0.833\n"
     ]
    }
   ],
   "source": [
    "from itertools import product\n",
    "\n",
    "# генерируем все возможные исходы\n",
    "outcomes = list(product(range(1, 7), repeat=2))\n",
    "\n",
    "# считаем количество исходов для каждой суммы выпавших очков\n",
    "sums = [sum(outcome) for outcome in outcomes]\n",
    "freq = {i:sums.count(i)/len(outcomes) for i in range(2,13)}\n",
    "\n",
    "# выводим закон распределения\n",
    "for i in freq:\n",
    "    print(f'P(X={i}) = {freq[i]:.3f}')\n",
    "\n",
    "# вероятность события X <= 4\n",
    "prob_X_le_4 = sum([freq[i] for i in range(2,5)])\n",
    "print(f'P(X <= 4) = {prob_X_le_4:.3f}')\n",
    "\n",
    "# вероятность события X > 4\n",
    "prob_X_gt_4 = sum([freq[i] for i in range(5,13)])\n",
    "print(f'P(X > 4) = {prob_X_gt_4:.3f}')"
   ]
  },
  {
   "cell_type": "markdown",
   "metadata": {
    "id": "shgW4D83awjK"
   },
   "source": [
    "## Условные вероятности"
   ]
  },
  {
   "cell_type": "markdown",
   "metadata": {
    "id": "Fbu1RFZwWZrk"
   },
   "source": [
    "### Задача 9\n",
    "Из колоды (36 карт) вынимают последовательно без возвращения две карты. Найти вероятность того, что первой картой была шестерка, а второй — семерка. Найти условную вероятность того же события при условии, что обе карты бубновой масти.\n"
   ]
  }
 ],
 "metadata": {
  "colab": {
   "collapsed_sections": [],
   "name": "Практика к занятию 11.ipynb",
   "provenance": []
  },
  "kernelspec": {
   "display_name": "Python 3 (ipykernel)",
   "language": "python",
   "name": "python3"
  },
  "language_info": {
   "codemirror_mode": {
    "name": "ipython",
    "version": 3
   },
   "file_extension": ".py",
   "mimetype": "text/x-python",
   "name": "python",
   "nbconvert_exporter": "python",
   "pygments_lexer": "ipython3",
   "version": "3.9.13"
  }
 },
 "nbformat": 4,
 "nbformat_minor": 1
}
