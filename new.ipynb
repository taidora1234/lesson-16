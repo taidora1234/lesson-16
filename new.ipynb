{
 "cells": [
  {
   "cell_type": "markdown",
   "metadata": {
    "id": "pDrecLU-4QjS"
   },
   "source": [
    "# Практика"
   ]
  },
  {
   "cell_type": "code",
   "execution_count": 36,
   "metadata": {},
   "outputs": [],
   "source": [
    "import pandas as pd\n",
    "import numpy as np\n",
    "import matplotlib.pyplot as plt\n",
    "import random\n",
    "import scipy.stats as sts\n",
    "from scipy.stats import binom\n",
    "%matplotlib inline\n",
    "from itertools import product\n",
    "import warnings\n",
    "warnings.filterwarnings('ignore')"
   ]
  },
  {
   "cell_type": "markdown",
   "metadata": {
    "id": "gUvTNDlMaV-a"
   },
   "source": [
    "## Определение вероятности. События\n",
    "\n",
    "Требуется сгенерировать необходимые выборки и произвести по ним расчеты"
   ]
  },
  {
   "cell_type": "markdown",
   "metadata": {
    "id": "5V70InEBTgup"
   },
   "source": [
    "### Задача 1\n",
    "Брошено две монеты. Найти вероятность того, что монеты выпали разными сторонами"
   ]
  },
  {
   "cell_type": "code",
   "execution_count": 13,
   "metadata": {
    "id": "88Iw-SL3jYQV"
   },
   "outputs": [
    {
     "name": "stdout",
     "output_type": "stream",
     "text": [
      "Вероятность  0.499926\n"
     ]
    }
   ],
   "source": [
    "num_trials = 1000000\n",
    "num_different = 0\n",
    "\n",
    "for i in range(num_trials):\n",
    "    coin1 = random.choice(['heads', 'tails'])\n",
    "    coin2 = random.choice(['heads', 'tails'])\n",
    "    if coin1 != coin2:\n",
    "        num_different += 1\n",
    "\n",
    "print(\"Вероятность \", num_different / num_trials)"
   ]
  },
  {
   "cell_type": "markdown",
   "metadata": {
    "id": "t0XOMos2Tl0e"
   },
   "source": [
    "### Задача 2\n",
    "Брошено три монеты. Описать множество всех элементарных событий. Найти вероятности следующих событий:\n",
    "\n",
    "\n",
    "1.   A = {не выпало ни одного герба}\n",
    "2.   B = {выпало четное число гербов}\n",
    "3.   C = {на третьей монете выпал герб}\n"
   ]
  },
  {
   "cell_type": "code",
   "execution_count": 19,
   "metadata": {},
   "outputs": [
    {
     "name": "stdout",
     "output_type": "stream",
     "text": [
      "Вероятность события A: 0.125\n",
      "Вероятность события B: 0.5\n",
      "Вероятность события C: 0.5\n"
     ]
    }
   ],
   "source": [
    "# Генерируем все возможные исходы\n",
    "outcomes = [(0,0,0), (0,0,1), (0,1,0), (0,1,1), (1,0,0), (1,0,1), (1,1,0), (1,1,1)]\n",
    "\n",
    "# Вычисляем вероятности событий\n",
    "A_count = 0\n",
    "B_count = 0\n",
    "C_count = 0\n",
    "\n",
    "for outcome in outcomes:\n",
    "    if sum(outcome) == 0:\n",
    "        A_count += 1\n",
    "    if sum(outcome) % 2 == 0:\n",
    "        B_count += 1\n",
    "    if outcome[2] == 1:\n",
    "        C_count += 1\n",
    "\n",
    "A_prob = A_count / len(outcomes)\n",
    "B_prob = B_count / len(outcomes)\n",
    "C_prob = C_count / len(outcomes)\n",
    "\n",
    "print(\"Вероятность события A:\", A_prob)\n",
    "print(\"Вероятность события B:\", B_prob)\n",
    "print(\"Вероятность события C:\", C_prob)\n"
   ]
  },
  {
   "cell_type": "markdown",
   "metadata": {},
   "source": [
    "Предлагается также решить задачи: \n",
    "\n",
    "### Задача 3\n",
    "Из двух претендентов E и L на ответственную должность три члена комиссии должны отобрать одного. Каждый член комиссии должен указать либо одного достойного, либо забраковать обоих. Претендент считается выбранным, если он был признана достойным хотя бы двумя членами комиссии.\n",
    "Найти вероятность событий:\n",
    "\n",
    "A = {рекомендован L}, B = {рекомендован E}\n"
   ]
  },
  {
   "cell_type": "code",
   "execution_count": 23,
   "metadata": {},
   "outputs": [
    {
     "name": "stdout",
     "output_type": "stream",
     "text": [
      "Вероятность рекомендации L:  0.5\n",
      "Вероятность рекомендации E:  0.5\n"
     ]
    }
   ],
   "source": [
    "import itertools\n",
    "\n",
    "combinations = list(itertools.product(['L', 'E'], repeat=3))\n",
    "\n",
    "count_A = 0\n",
    "count_B = 0\n",
    "\n",
    "for c in combinations:\n",
    "    if c.count('L') >= 2:\n",
    "        count_A += 1\n",
    "    elif c.count('E') >= 2:\n",
    "        count_B += 1\n",
    "\n",
    "prob_A = count_A / len(combinations)\n",
    "prob_B = count_B / len(combinations)\n",
    "\n",
    "print(\"Вероятность рекомендации L: \", prob_A)\n",
    "print(\"Вероятность рекомендации E: \", prob_B)"
   ]
  },
  {
   "cell_type": "markdown",
   "metadata": {
    "id": "peM38mVfYa5B"
   },
   "source": [
    "### Задача 4\n",
    "Брошено две игральных кости. Описать множество элементарных событий. Найти вероятности событий:\n",
    "\n",
    "A = {вышло две \"шестерки\"}\n",
    "\n",
    "B = {сумма выпавших очков не меньше 11}\n",
    "\n",
    "C = {не выпала ни одна \"шестерка\"}"
   ]
  },
  {
   "cell_type": "code",
   "execution_count": 26,
   "metadata": {},
   "outputs": [
    {
     "name": "stdout",
     "output_type": "stream",
     "text": [
      "Множество элементарных событий: [(1, 1), (1, 2), (1, 3), (1, 4), (1, 5), (1, 6), (2, 1), (2, 2), (2, 3), (2, 4), (2, 5), (2, 6), (3, 1), (3, 2), (3, 3), (3, 4), (3, 5), (3, 6), (4, 1), (4, 2), (4, 3), (4, 4), (4, 5), (4, 6), (5, 1), (5, 2), (5, 3), (5, 4), (5, 5), (5, 6), (6, 1), (6, 2), (6, 3), (6, 4), (6, 5), (6, 6)]\n",
      "Вероятность события A: 0.027777777777777776\n",
      "Вероятность события B: 0.08333333333333333\n",
      "Вероятность события C: 0.6944444444444444\n"
     ]
    }
   ],
   "source": [
    "# Множество элементарных событий\n",
    "outcomes = [(i, j) for i in range(1, 7) for j in range(1, 7)]\n",
    "\n",
    "# Вероятность события A\n",
    "event_a = [(i, j) for (i, j) in outcomes if i == 6 and j == 6]\n",
    "prob_a = len(event_a) / len(outcomes)\n",
    "\n",
    "# Вероятность события B\n",
    "event_b = [(i, j) for (i, j) in outcomes if i + j >= 11]\n",
    "prob_b = len(event_b) / len(outcomes)\n",
    "\n",
    "# Вероятность события C\n",
    "event_c = [(i, j) for (i, j) in outcomes if i != 6 and j != 6]\n",
    "prob_c = len(event_c) / len(outcomes)\n",
    "\n",
    "print(f\"Множество элементарных событий: {outcomes}\")\n",
    "print(f\"Вероятность события A: {prob_a}\")\n",
    "print(f\"Вероятность события B: {prob_b}\")\n",
    "print(f\"Вероятность события C: {prob_c}\")"
   ]
  },
  {
   "cell_type": "markdown",
   "metadata": {
    "id": "f-Bi0p8haclB"
   },
   "source": [
    "## Вероятность суммы событий"
   ]
  },
  {
   "cell_type": "markdown",
   "metadata": {
    "id": "g7A7QlvGTnwZ"
   },
   "source": [
    "### Задача 5\n",
    "Брошены две игральные кости. Найти вероятность события D = {выпала хотя бы одна шестёрка}\n"
   ]
  },
  {
   "cell_type": "code",
   "execution_count": 37,
   "metadata": {
    "id": "vjtTJN-kUp9D"
   },
   "outputs": [
    {
     "name": "stdout",
     "output_type": "stream",
     "text": [
      "Вероятность выпадения хотя бы одной 'шестерки':  0.30607\n"
     ]
    }
   ],
   "source": [
    "N = 1000000  # количество имитационных экспериментов\n",
    "count_D = 0  # счётчик числа благоприятных исходов\n",
    "\n",
    "for i in range(N):\n",
    "    dice1 = random.randint(1, 6)  # бросаем первую кость\n",
    "    dice2 = random.randint(1, 6)  # бросаем вторую кость\n",
    "    if dice1 == 6 or dice2 == 6:  # проверяем, выпала ли хотя бы одна шестерка\n",
    "        count_D += 1\n",
    "\n",
    "prob_D = count_D / N  # вычисляем вероятность\n",
    "print(\"Вероятность выпадения хотя бы одной 'шестерки': \", prob_D)"
   ]
  },
  {
   "cell_type": "markdown",
   "metadata": {
    "id": "R1bYSzQQbC6I"
   },
   "source": [
    "Предлагается также решить задачи: \n",
    "\n",
    "### Задача 6\n",
    "В телефонном номере три последние цифры стерлись. Считая, что все возможные значения стершихся цифр равновероятны, найти вероятность событий:\n",
    "\n",
    "A = {Стерлись различные цифры},\n",
    "\n",
    "B = {Стерлись одинаковые цифры},\n",
    "\n",
    "C = {Среди стершихся цифр хотя бы две совпадают},\n",
    "\n",
    "D = {Среди стершихся цифр хотя бы две различны}\n"
   ]
  },
  {
   "cell_type": "code",
   "execution_count": 27,
   "metadata": {},
   "outputs": [
    {
     "name": "stdout",
     "output_type": "stream",
     "text": [
      "Вероятность события A: 0.7231\n",
      "Вероятность события B: 0.0101\n",
      "Вероятность события C: 0.2781\n",
      "Вероятность события D: 0.9903\n"
     ]
    }
   ],
   "source": [
    "def event_A():\n",
    "    digits = set()\n",
    "    for i in range(3):\n",
    "        digits.add(random.randrange(10))\n",
    "    return len(digits) == 3\n",
    "\n",
    "def event_B():\n",
    "    digits = set()\n",
    "    for i in range(3):\n",
    "        digits.add(random.randrange(10))\n",
    "    return len(digits) == 1\n",
    "\n",
    "def event_C():\n",
    "    digits = []\n",
    "    for i in range(3):\n",
    "        digits.append(random.randrange(10))\n",
    "    return len(set(digits)) < 3\n",
    "\n",
    "def event_D():\n",
    "    digits = []\n",
    "    for i in range(3):\n",
    "        digits.append(random.randrange(10))\n",
    "    return len(set(digits)) > 1\n",
    "\n",
    "num_trials = 10000\n",
    "\n",
    "print(\"Вероятность события A:\", sum(event_A() for i in range(num_trials)) / num_trials)\n",
    "print(\"Вероятность события B:\", sum(event_B() for i in range(num_trials)) / num_trials)\n",
    "print(\"Вероятность события C:\", sum(event_C() for i in range(num_trials)) / num_trials)\n",
    "print(\"Вероятность события D:\", sum(event_D() for i in range(num_trials)) / num_trials)"
   ]
  },
  {
   "cell_type": "markdown",
   "metadata": {
    "id": "RnugkR8BalK_"
   },
   "source": [
    "## Случайные величины"
   ]
  },
  {
   "cell_type": "markdown",
   "metadata": {
    "id": "yLoZDZ17UVsp"
   },
   "source": [
    "### Задача 7\n",
    "В лотерее имеется 10 билетов, из которых один выигрышный. Размер выигрыша 10 ден. ед.; стоимость билета 1 ден ед. Найти закон распределения случайной величины X, равной чистому выигрышу участника лотереи, который вытаскивает билет первым."
   ]
  },
  {
   "cell_type": "code",
   "execution_count": 32,
   "metadata": {
    "id": "oNk432sKUqzT"
   },
   "outputs": [
    {
     "name": "stdout",
     "output_type": "stream",
     "text": [
      "P(X=-1) = 0.0\n",
      "P(X=0) = 0.9\n",
      "P(X=1) = 0.1\n",
      "P(X=2) = 0.0\n",
      "P(X=3) = 0.0\n",
      "P(X=4) = 0.0\n",
      "P(X=5) = 0.0\n",
      "P(X=6) = 0.0\n",
      "P(X=7) = 0.0\n",
      "P(X=8) = 0.0\n",
      "P(X=9) = 0.0\n"
     ]
    }
   ],
   "source": [
    "n = 1\n",
    "p = 1/10\n",
    "\n",
    "X = binom(n, p)\n",
    "\n",
    "for i in range(-1, 10):\n",
    "    print(f'P(X={i}) = {X.pmf(i)}')"
   ]
  },
  {
   "cell_type": "markdown",
   "metadata": {
    "id": "U-NK9liSbpvb"
   },
   "source": [
    "Предлагается также решить задачу: \n",
    "\n",
    "### Задача 8\n",
    "Брошены две игральные кости. Найти закон распределения случайной величины $X$, равной сумме выпавших очков. Найти вероятности событий ${X <= 4}$, ${X > 4}$"
   ]
  },
  {
   "cell_type": "code",
   "execution_count": 35,
   "metadata": {},
   "outputs": [
    {
     "name": "stdout",
     "output_type": "stream",
     "text": [
      "Закон распределения случайной величины X:\n",
      "P(X=2) = 0.16666666666666666\n",
      "P(X=3) = 0.16666666666666666\n",
      "P(X=4) = 0.16666666666666666\n",
      "P(X=5) = 0.16666666666666666\n",
      "P(X=6) = 0.16666666666666666\n",
      "P(X=7) = 0.0\n",
      "P(X=8) = 0.0\n",
      "P(X=9) = 0.0\n",
      "P(X=10) = 0.0\n",
      "P(X=11) = 0.0\n",
      "P(X=12) = 0.0\n",
      "Вероятность события X <= 4: P(X <= 4) = 0.667\n",
      "Вероятность события X > 4: P(X > 4) = 0.333\n"
     ]
    }
   ],
   "source": [
    "import scipy.stats as stats\n",
    "\n",
    "# Создаем объект распределения\n",
    "rv = stats.randint(1, 7)\n",
    "\n",
    "# Находим вероятности для всех значений случайной величины X\n",
    "p_X = [rv.pmf(i) for i in range(2, 13)]\n",
    "\n",
    "# Находим вероятности событий X <= 4 и X > 4\n",
    "p_X_le_4 = rv.cdf(4)\n",
    "p_X_gt_4 = rv.sf(4)\n",
    "\n",
    "print(\"Закон распределения случайной величины X:\")\n",
    "for i in range(len(p_X)):\n",
    "    print(\"P(X={}) = {}\".format(i+2, p_X[i]))\n",
    "\n",
    "print(\"Вероятность события X <= 4: P(X <= 4) = {:.3f}\".format(p_X_le_4))\n",
    "print(\"Вероятность события X > 4: P(X > 4) = {:.3f}\".format(p_X_gt_4))"
   ]
  },
  {
   "cell_type": "markdown",
   "metadata": {
    "id": "shgW4D83awjK"
   },
   "source": [
    "## Условные вероятности"
   ]
  },
  {
   "cell_type": "markdown",
   "metadata": {
    "id": "Fbu1RFZwWZrk"
   },
   "source": [
    "### Задача 9\n",
    "Из колоды (36 карт) вынимают последовательно без возвращения две карты. Найти вероятность того, что первой картой была шестерка, а второй — семерка. Найти условную вероятность того же события при условии, что обе карты бубновой масти.\n"
   ]
  }
 ],
 "metadata": {
  "colab": {
   "collapsed_sections": [],
   "name": "Практика к занятию 11.ipynb",
   "provenance": []
  },
  "kernelspec": {
   "display_name": "Python 3 (ipykernel)",
   "language": "python",
   "name": "python3"
  },
  "language_info": {
   "codemirror_mode": {
    "name": "ipython",
    "version": 3
   },
   "file_extension": ".py",
   "mimetype": "text/x-python",
   "name": "python",
   "nbconvert_exporter": "python",
   "pygments_lexer": "ipython3",
   "version": "3.9.13"
  }
 },
 "nbformat": 4,
 "nbformat_minor": 1
}
